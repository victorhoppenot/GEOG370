{
 "cells": [
  {
   "cell_type": "code",
   "execution_count": 38,
   "metadata": {},
   "outputs": [],
   "source": [
    "import pandas as pd\n",
    "import numpy as np\n",
    "import os"
   ]
  },
  {
   "cell_type": "code",
   "execution_count": 39,
   "metadata": {},
   "outputs": [],
   "source": [
    "home = \"./\"\n",
    "final_file = \"final/Employment_By_Industry.csv\"\n",
    "files = os.listdir(home)\n",
    "\n",
    "head = \"\"\n",
    "dataset_files = []\n",
    "for file in files:\n",
    "    if file == home + final_file:\n",
    "        continue\n",
    "    if file == \"Total.csv\":\n",
    "        head = file\n",
    "    elif file.endswith(\".csv\"):\n",
    "        dataset_files.append(file)"
   ]
  },
  {
   "cell_type": "code",
   "execution_count": 40,
   "metadata": {},
   "outputs": [
    {
     "name": "stderr",
     "output_type": "stream",
     "text": [
      "C:\\Users\\Hoppenot\\AppData\\Local\\Temp\\ipykernel_23836\\2036294075.py:1: DtypeWarning: Columns (0) have mixed types. Specify dtype option on import or set low_memory=False.\n",
      "  head_df = pd.read_csv(home + head)\n"
     ]
    },
    {
     "data": {
      "text/html": [
       "<div>\n",
       "<style scoped>\n",
       "    .dataframe tbody tr th:only-of-type {\n",
       "        vertical-align: middle;\n",
       "    }\n",
       "\n",
       "    .dataframe tbody tr th {\n",
       "        vertical-align: top;\n",
       "    }\n",
       "\n",
       "    .dataframe thead th {\n",
       "        text-align: right;\n",
       "    }\n",
       "</style>\n",
       "<table border=\"1\" class=\"dataframe\">\n",
       "  <thead>\n",
       "    <tr style=\"text-align: right;\">\n",
       "      <th></th>\n",
       "      <th>fips</th>\n",
       "      <th>Total</th>\n",
       "    </tr>\n",
       "  </thead>\n",
       "  <tbody>\n",
       "    <tr>\n",
       "      <th>4</th>\n",
       "      <td>01000</td>\n",
       "      <td>1608569</td>\n",
       "    </tr>\n",
       "    <tr>\n",
       "      <th>10</th>\n",
       "      <td>01001</td>\n",
       "      <td>8517</td>\n",
       "    </tr>\n",
       "    <tr>\n",
       "      <th>15</th>\n",
       "      <td>01003</td>\n",
       "      <td>64337</td>\n",
       "    </tr>\n",
       "    <tr>\n",
       "      <th>20</th>\n",
       "      <td>01005</td>\n",
       "      <td>6499</td>\n",
       "    </tr>\n",
       "    <tr>\n",
       "      <th>25</th>\n",
       "      <td>01007</td>\n",
       "      <td>3555</td>\n",
       "    </tr>\n",
       "    <tr>\n",
       "      <th>...</th>\n",
       "      <td>...</td>\n",
       "      <td>...</td>\n",
       "    </tr>\n",
       "    <tr>\n",
       "      <th>19051</th>\n",
       "      <td>C4962</td>\n",
       "      <td>158557</td>\n",
       "    </tr>\n",
       "    <tr>\n",
       "      <th>19056</th>\n",
       "      <td>C4966</td>\n",
       "      <td>174682</td>\n",
       "    </tr>\n",
       "    <tr>\n",
       "      <th>19061</th>\n",
       "      <td>C4970</td>\n",
       "      <td>36545</td>\n",
       "    </tr>\n",
       "    <tr>\n",
       "      <th>19066</th>\n",
       "      <td>C4974</td>\n",
       "      <td>63424</td>\n",
       "    </tr>\n",
       "    <tr>\n",
       "      <th>19242</th>\n",
       "      <td>US000</td>\n",
       "      <td>125237028</td>\n",
       "    </tr>\n",
       "  </tbody>\n",
       "</table>\n",
       "<p>3716 rows × 2 columns</p>\n",
       "</div>"
      ],
      "text/plain": [
       "        fips      Total\n",
       "4      01000    1608569\n",
       "10     01001       8517\n",
       "15     01003      64337\n",
       "20     01005       6499\n",
       "25     01007       3555\n",
       "...      ...        ...\n",
       "19051  C4962     158557\n",
       "19056  C4966     174682\n",
       "19061  C4970      36545\n",
       "19066  C4974      63424\n",
       "19242  US000  125237028\n",
       "\n",
       "[3716 rows x 2 columns]"
      ]
     },
     "execution_count": 40,
     "metadata": {},
     "output_type": "execute_result"
    }
   ],
   "source": [
    "head_df = pd.read_csv(home + head)\n",
    "\n",
    "head_df = head_df.loc[head_df[\"own_code\"] == 5] # 5 is private\n",
    "head_df = head_df.loc[:, [\"area_fips\",\"month1_emplvl\"]]\n",
    "head_df = head_df.rename(columns={\"area_fips\":\"fips\", \"month1_emplvl\":\"Total\"})\n",
    "head_df[\"fips\"] = head_df[\"fips\"].astype(str).str.zfill(5)\n",
    "head_df"
   ]
  },
  {
   "cell_type": "code",
   "execution_count": 41,
   "metadata": {},
   "outputs": [],
   "source": [
    "columns = []\n",
    "percent_columns = []\n",
    "for dataset_file in dataset_files:\n",
    "    df = pd.read_csv(home + dataset_file)\n",
    "    df = df.loc[df[\"own_code\"] == 5] # 5 is private\n",
    "    df = df.loc[:, [\"area_fips\",\"month1_emplvl\"]]\n",
    "    df = df.rename(columns={\"area_fips\":\"fips\", \"month1_emplvl\":dataset_file[:-4]})\n",
    "\n",
    "    columns.append(dataset_file[:-4])\n",
    "    percent_columns.append(dataset_file[:-4]+\"_pct\")\n",
    "\n",
    "    df[\"fips\"] = df[\"fips\"].astype(str).str.zfill(5)\n",
    "    head_df = head_df.merge(df, on=\"fips\", how=\"outer\")\n",
    "    head_df[dataset_file[:-4]+\"_pct\"] = head_df[dataset_file[:-4]] / head_df[\"Total\"]\n",
    "\n",
    "head_df[\"Largest\"] = head_df[columns].idxmax(axis=1)\n",
    "head_df.to_csv(home + final_file, index=False)\n"
   ]
  }
 ],
 "metadata": {
  "kernelspec": {
   "display_name": "geo",
   "language": "python",
   "name": "python3"
  },
  "language_info": {
   "codemirror_mode": {
    "name": "ipython",
    "version": 3
   },
   "file_extension": ".py",
   "mimetype": "text/x-python",
   "name": "python",
   "nbconvert_exporter": "python",
   "pygments_lexer": "ipython3",
   "version": "3.9.13"
  },
  "orig_nbformat": 4
 },
 "nbformat": 4,
 "nbformat_minor": 2
}
